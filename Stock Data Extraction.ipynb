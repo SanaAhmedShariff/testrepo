Print("This file has the extracted stock data of tesla and gamestop")
